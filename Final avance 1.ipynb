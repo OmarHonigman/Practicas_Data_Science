{
 "cells": [
  {
   "cell_type": "markdown",
   "id": "52aeda0f-511d-4504-a38b-6841020dbb2a",
   "metadata": {
    "jp-MarkdownHeadingCollapsed": true,
    "tags": []
   },
   "source": [
    "### Obtención de la información:\n",
    "La data elegida se encuentra en la página de kaggle: https://www.kaggle.com/code/kamilpytlak/fitting-the-best-logistic-regression-model/data. <br>\n",
    "Cuenta con un archivo, \"heart_2020_cleaned.csv\", el cual contiene la siguiente información:"
   ]
  },
  {
   "cell_type": "markdown",
   "id": "925fb0b5-157b-47c4-8f1c-2d1aecb25f1e",
   "metadata": {},
   "source": [
    "### Descripción del dataset:"
   ]
  },
  {
   "cell_type": "markdown",
   "id": "2f9fd447-d993-42e0-bee0-12f1b56204dc",
   "metadata": {},
   "source": [
    "#### Variables:\n",
    "\n",
    "1. **HeartDisease:** Indica si alguna vez ha reportado una enfermedad coronaria (CHD) o un infarto al miocardio (MI).\n",
    "2. **BMI:** Índice de masa corporal. Utiliza la altura y peso de un individuo para calcular la grasa corporal y determinar el rango en el que se encuentra.\n",
    "3. **Smoking:** Indica si el individuo ha fumado al menos 100 cigarrillos en su vida.\n",
    "4. **AlcoholDrinking:** Si se ingiere más de 14 bebidas por semana en el caso de los hombres, o 7 bebidas a la semana en caso de las mujeres.\n",
    "5. **Stroke:** Ha tenido alguna vez un derrame cerebral.\n",
    "6. **PhysicalHealth:** Durante los últimos 30 días, ¿cuántos días se ha sentido mal físicamente?\n",
    "7. **MentalHealth:** Durante los últimos 30 días, ¿cuántos días se ha sentido mal mentalmente?\n",
    "8. **DiffWalking:** Indica si tiene problemas serios para caminar o subir escaleras.\n",
    "9. **Sex:** Indica si el paciente es Hombre (Male) o Mujer (Female).\n",
    "10. **AgeCategory:** Indica en cuál de las categorías de edad se encuentra.\n",
    "11. **Race:** Indica la raza del individuo. Las opciones son: 'White', 'Black', 'Asian', 'American Indian/Alaskan Native', 'Hispanic' y 'Other'.\n",
    "12. **Diabetic:** ¿Alguna vez ha tenido diabetes? Las opciones son: 'Yes', 'No', 'No, borderline diabetes' y 'Yes (during pregnancy)'.\n",
    "13. **PhysicalActivity:** Indica si realizar alguna actividad física, aparte de su trabajo diario.\n",
    "14. **GenHealth:** En general que tan bien se salud se siente el individuo. Las opciones son: 'Poor', 'Fair', 'Good', 'Very good' y 'Excellent'.\n",
    "15. **SleepTime:** En promedio, cuantas horas de sueño tiene el individuo en un periodo de 24 horas.\n",
    "16. **Asthma:** ¿Alguna vez ha tenido asma?\n",
    "17. **KidneyDisease:** ¿Alguna vez ha tenido enfermedades a los riñones?\n",
    "18. **SkinCancer:** ¿Alguna vez ha tenido cáncer de piel?\n"
   ]
  }
 ],
 "metadata": {
  "kernelspec": {
   "display_name": "Python 3 (ipykernel)",
   "language": "python",
   "name": "python3"
  },
  "language_info": {
   "codemirror_mode": {
    "name": "ipython",
    "version": 3
   },
   "file_extension": ".py",
   "mimetype": "text/x-python",
   "name": "python",
   "nbconvert_exporter": "python",
   "pygments_lexer": "ipython3",
   "version": "3.9.7"
  }
 },
 "nbformat": 4,
 "nbformat_minor": 5
}
