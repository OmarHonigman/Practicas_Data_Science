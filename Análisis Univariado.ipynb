{
 "cells": [
  {
   "cell_type": "markdown",
   "id": "7c593fc7-95ae-41e9-b67a-2cab197a73b1",
   "metadata": {
    "tags": []
   },
   "source": [
    "# Analisis Univariado del Proyecto"
   ]
  },
  {
   "cell_type": "code",
   "execution_count": 79,
   "id": "0671c6f6-4285-4b80-8113-168ed8b5f8f4",
   "metadata": {},
   "outputs": [],
   "source": [
    "# Importamos las librerias a utilizar\n",
    "import pandas as pd\n",
    "import seaborn as sns\n",
    "import matplotlib.pyplot as plt"
   ]
  },
  {
   "cell_type": "code",
   "execution_count": 80,
   "id": "29e38b54-80c7-4c86-a3f6-338c315b557a",
   "metadata": {},
   "outputs": [
    {
     "data": {
      "text/html": [
       "<div>\n",
       "<style scoped>\n",
       "    .dataframe tbody tr th:only-of-type {\n",
       "        vertical-align: middle;\n",
       "    }\n",
       "\n",
       "    .dataframe tbody tr th {\n",
       "        vertical-align: top;\n",
       "    }\n",
       "\n",
       "    .dataframe thead th {\n",
       "        text-align: right;\n",
       "    }\n",
       "</style>\n",
       "<table border=\"1\" class=\"dataframe\">\n",
       "  <thead>\n",
       "    <tr style=\"text-align: right;\">\n",
       "      <th></th>\n",
       "      <th>HeartDisease</th>\n",
       "      <th>BMI</th>\n",
       "      <th>Smoking</th>\n",
       "      <th>AlcoholDrinking</th>\n",
       "      <th>Stroke</th>\n",
       "      <th>PhysicalHealth</th>\n",
       "      <th>MentalHealth</th>\n",
       "      <th>DiffWalking</th>\n",
       "      <th>Sex</th>\n",
       "      <th>AgeCategory</th>\n",
       "      <th>Race</th>\n",
       "      <th>Diabetic</th>\n",
       "      <th>PhysicalActivity</th>\n",
       "      <th>GenHealth</th>\n",
       "      <th>SleepTime</th>\n",
       "      <th>Asthma</th>\n",
       "      <th>KidneyDisease</th>\n",
       "      <th>SkinCancer</th>\n",
       "    </tr>\n",
       "  </thead>\n",
       "  <tbody>\n",
       "    <tr>\n",
       "      <th>0</th>\n",
       "      <td>No</td>\n",
       "      <td>16.60</td>\n",
       "      <td>Yes</td>\n",
       "      <td>No</td>\n",
       "      <td>No</td>\n",
       "      <td>3.0</td>\n",
       "      <td>30.0</td>\n",
       "      <td>No</td>\n",
       "      <td>Female</td>\n",
       "      <td>55-59</td>\n",
       "      <td>White</td>\n",
       "      <td>Yes</td>\n",
       "      <td>Yes</td>\n",
       "      <td>Very good</td>\n",
       "      <td>5.0</td>\n",
       "      <td>Yes</td>\n",
       "      <td>No</td>\n",
       "      <td>Yes</td>\n",
       "    </tr>\n",
       "    <tr>\n",
       "      <th>1</th>\n",
       "      <td>No</td>\n",
       "      <td>20.34</td>\n",
       "      <td>No</td>\n",
       "      <td>No</td>\n",
       "      <td>Yes</td>\n",
       "      <td>0.0</td>\n",
       "      <td>0.0</td>\n",
       "      <td>No</td>\n",
       "      <td>Female</td>\n",
       "      <td>80 or older</td>\n",
       "      <td>White</td>\n",
       "      <td>No</td>\n",
       "      <td>Yes</td>\n",
       "      <td>Very good</td>\n",
       "      <td>7.0</td>\n",
       "      <td>No</td>\n",
       "      <td>No</td>\n",
       "      <td>No</td>\n",
       "    </tr>\n",
       "    <tr>\n",
       "      <th>2</th>\n",
       "      <td>No</td>\n",
       "      <td>26.58</td>\n",
       "      <td>Yes</td>\n",
       "      <td>No</td>\n",
       "      <td>No</td>\n",
       "      <td>20.0</td>\n",
       "      <td>30.0</td>\n",
       "      <td>No</td>\n",
       "      <td>Male</td>\n",
       "      <td>65-69</td>\n",
       "      <td>White</td>\n",
       "      <td>Yes</td>\n",
       "      <td>Yes</td>\n",
       "      <td>Fair</td>\n",
       "      <td>8.0</td>\n",
       "      <td>Yes</td>\n",
       "      <td>No</td>\n",
       "      <td>No</td>\n",
       "    </tr>\n",
       "    <tr>\n",
       "      <th>3</th>\n",
       "      <td>No</td>\n",
       "      <td>24.21</td>\n",
       "      <td>No</td>\n",
       "      <td>No</td>\n",
       "      <td>No</td>\n",
       "      <td>0.0</td>\n",
       "      <td>0.0</td>\n",
       "      <td>No</td>\n",
       "      <td>Female</td>\n",
       "      <td>75-79</td>\n",
       "      <td>White</td>\n",
       "      <td>No</td>\n",
       "      <td>No</td>\n",
       "      <td>Good</td>\n",
       "      <td>6.0</td>\n",
       "      <td>No</td>\n",
       "      <td>No</td>\n",
       "      <td>Yes</td>\n",
       "    </tr>\n",
       "    <tr>\n",
       "      <th>4</th>\n",
       "      <td>No</td>\n",
       "      <td>23.71</td>\n",
       "      <td>No</td>\n",
       "      <td>No</td>\n",
       "      <td>No</td>\n",
       "      <td>28.0</td>\n",
       "      <td>0.0</td>\n",
       "      <td>Yes</td>\n",
       "      <td>Female</td>\n",
       "      <td>40-44</td>\n",
       "      <td>White</td>\n",
       "      <td>No</td>\n",
       "      <td>Yes</td>\n",
       "      <td>Very good</td>\n",
       "      <td>8.0</td>\n",
       "      <td>No</td>\n",
       "      <td>No</td>\n",
       "      <td>No</td>\n",
       "    </tr>\n",
       "  </tbody>\n",
       "</table>\n",
       "</div>"
      ],
      "text/plain": [
       "  HeartDisease    BMI Smoking AlcoholDrinking Stroke  PhysicalHealth  \\\n",
       "0           No  16.60     Yes              No     No             3.0   \n",
       "1           No  20.34      No              No    Yes             0.0   \n",
       "2           No  26.58     Yes              No     No            20.0   \n",
       "3           No  24.21      No              No     No             0.0   \n",
       "4           No  23.71      No              No     No            28.0   \n",
       "\n",
       "   MentalHealth DiffWalking     Sex  AgeCategory   Race Diabetic  \\\n",
       "0          30.0          No  Female        55-59  White      Yes   \n",
       "1           0.0          No  Female  80 or older  White       No   \n",
       "2          30.0          No    Male        65-69  White      Yes   \n",
       "3           0.0          No  Female        75-79  White       No   \n",
       "4           0.0         Yes  Female        40-44  White       No   \n",
       "\n",
       "  PhysicalActivity  GenHealth  SleepTime Asthma KidneyDisease SkinCancer  \n",
       "0              Yes  Very good        5.0    Yes            No        Yes  \n",
       "1              Yes  Very good        7.0     No            No         No  \n",
       "2              Yes       Fair        8.0    Yes            No         No  \n",
       "3               No       Good        6.0     No            No        Yes  \n",
       "4              Yes  Very good        8.0     No            No         No  "
      ]
     },
     "execution_count": 80,
     "metadata": {},
     "output_type": "execute_result"
    }
   ],
   "source": [
    "#Importamos y revisamos la data\n",
    "df = pd.read_excel(\"data_final.xlsx\")\n",
    "df.head(5)"
   ]
  },
  {
   "cell_type": "markdown",
   "id": "c1b7cfa1-6ba3-4500-a712-a412fd1dcbb1",
   "metadata": {
    "tags": []
   },
   "source": [
    "## 1. Caracteristicas del DataFrame"
   ]
  },
  {
   "cell_type": "code",
   "execution_count": 81,
   "id": "836e69a4-138c-40e0-b628-b9f2280f593d",
   "metadata": {},
   "outputs": [
    {
     "data": {
      "text/plain": [
       "(319795, 18)"
      ]
     },
     "execution_count": 81,
     "metadata": {},
     "output_type": "execute_result"
    }
   ],
   "source": [
    "# Revisamos la dimension del df\n",
    "df.shape"
   ]
  },
  {
   "cell_type": "code",
   "execution_count": 82,
   "id": "bd56ab38-8603-46b2-8449-9e93d9150399",
   "metadata": {
    "tags": []
   },
   "outputs": [
    {
     "name": "stdout",
     "output_type": "stream",
     "text": [
      "<class 'pandas.core.frame.DataFrame'>\n",
      "RangeIndex: 319795 entries, 0 to 319794\n",
      "Data columns (total 18 columns):\n",
      " #   Column            Non-Null Count   Dtype  \n",
      "---  ------            --------------   -----  \n",
      " 0   HeartDisease      319795 non-null  object \n",
      " 1   BMI               319795 non-null  float64\n",
      " 2   Smoking           319795 non-null  object \n",
      " 3   AlcoholDrinking   319795 non-null  object \n",
      " 4   Stroke            319795 non-null  object \n",
      " 5   PhysicalHealth    319795 non-null  float64\n",
      " 6   MentalHealth      319795 non-null  float64\n",
      " 7   DiffWalking       319795 non-null  object \n",
      " 8   Sex               319795 non-null  object \n",
      " 9   AgeCategory       319795 non-null  object \n",
      " 10  Race              319795 non-null  object \n",
      " 11  Diabetic          319795 non-null  object \n",
      " 12  PhysicalActivity  319795 non-null  object \n",
      " 13  GenHealth         319795 non-null  object \n",
      " 14  SleepTime         319795 non-null  float64\n",
      " 15  Asthma            319795 non-null  object \n",
      " 16  KidneyDisease     319795 non-null  object \n",
      " 17  SkinCancer        319795 non-null  object \n",
      "dtypes: float64(4), object(14)\n",
      "memory usage: 43.9+ MB\n"
     ]
    }
   ],
   "source": [
    "# Vemos un resumen de las caracteristicas del df\n",
    "df.info()"
   ]
  },
  {
   "cell_type": "code",
   "execution_count": 83,
   "id": "fc31cba4-6579-4b12-9527-943bd303fa85",
   "metadata": {},
   "outputs": [
    {
     "data": {
      "text/html": [
       "<div>\n",
       "<style scoped>\n",
       "    .dataframe tbody tr th:only-of-type {\n",
       "        vertical-align: middle;\n",
       "    }\n",
       "\n",
       "    .dataframe tbody tr th {\n",
       "        vertical-align: top;\n",
       "    }\n",
       "\n",
       "    .dataframe thead th {\n",
       "        text-align: right;\n",
       "    }\n",
       "</style>\n",
       "<table border=\"1\" class=\"dataframe\">\n",
       "  <thead>\n",
       "    <tr style=\"text-align: right;\">\n",
       "      <th></th>\n",
       "      <th>BMI</th>\n",
       "      <th>PhysicalHealth</th>\n",
       "      <th>MentalHealth</th>\n",
       "      <th>SleepTime</th>\n",
       "    </tr>\n",
       "  </thead>\n",
       "  <tbody>\n",
       "    <tr>\n",
       "      <th>count</th>\n",
       "      <td>319795.000000</td>\n",
       "      <td>319795.00000</td>\n",
       "      <td>319795.000000</td>\n",
       "      <td>319795.000000</td>\n",
       "    </tr>\n",
       "    <tr>\n",
       "      <th>mean</th>\n",
       "      <td>28.325399</td>\n",
       "      <td>3.37171</td>\n",
       "      <td>3.898366</td>\n",
       "      <td>7.097075</td>\n",
       "    </tr>\n",
       "    <tr>\n",
       "      <th>std</th>\n",
       "      <td>6.356100</td>\n",
       "      <td>7.95085</td>\n",
       "      <td>7.955235</td>\n",
       "      <td>1.436007</td>\n",
       "    </tr>\n",
       "    <tr>\n",
       "      <th>min</th>\n",
       "      <td>12.020000</td>\n",
       "      <td>0.00000</td>\n",
       "      <td>0.000000</td>\n",
       "      <td>1.000000</td>\n",
       "    </tr>\n",
       "    <tr>\n",
       "      <th>25%</th>\n",
       "      <td>24.030000</td>\n",
       "      <td>0.00000</td>\n",
       "      <td>0.000000</td>\n",
       "      <td>6.000000</td>\n",
       "    </tr>\n",
       "    <tr>\n",
       "      <th>50%</th>\n",
       "      <td>27.340000</td>\n",
       "      <td>0.00000</td>\n",
       "      <td>0.000000</td>\n",
       "      <td>7.000000</td>\n",
       "    </tr>\n",
       "    <tr>\n",
       "      <th>75%</th>\n",
       "      <td>31.420000</td>\n",
       "      <td>2.00000</td>\n",
       "      <td>3.000000</td>\n",
       "      <td>8.000000</td>\n",
       "    </tr>\n",
       "    <tr>\n",
       "      <th>max</th>\n",
       "      <td>94.850000</td>\n",
       "      <td>30.00000</td>\n",
       "      <td>30.000000</td>\n",
       "      <td>24.000000</td>\n",
       "    </tr>\n",
       "  </tbody>\n",
       "</table>\n",
       "</div>"
      ],
      "text/plain": [
       "                 BMI  PhysicalHealth   MentalHealth      SleepTime\n",
       "count  319795.000000    319795.00000  319795.000000  319795.000000\n",
       "mean       28.325399         3.37171       3.898366       7.097075\n",
       "std         6.356100         7.95085       7.955235       1.436007\n",
       "min        12.020000         0.00000       0.000000       1.000000\n",
       "25%        24.030000         0.00000       0.000000       6.000000\n",
       "50%        27.340000         0.00000       0.000000       7.000000\n",
       "75%        31.420000         2.00000       3.000000       8.000000\n",
       "max        94.850000        30.00000      30.000000      24.000000"
      ]
     },
     "execution_count": 83,
     "metadata": {},
     "output_type": "execute_result"
    }
   ],
   "source": [
    "# Revisamos las principales caracteristicas estadisticas del df\n",
    "df.describe()"
   ]
  },
  {
   "cell_type": "markdown",
   "id": "127764d9-2b4d-4df4-9823-b925210e1c3b",
   "metadata": {},
   "source": [
    "Nuestros datos indican distintas caracteristicas del sector salud. Tenemos 18 variables y un total de 319,795 observaciones. No hay datos faltantes."
   ]
  },
  {
   "cell_type": "markdown",
   "id": "7c1c4da4-07b0-4c97-96ba-3945d60cecc7",
   "metadata": {},
   "source": [
    "***"
   ]
  },
  {
   "cell_type": "markdown",
   "id": "d87a5c0f-2b13-45cc-a4b8-dfb88f812c31",
   "metadata": {
    "tags": []
   },
   "source": [
    "## 2. Graficos"
   ]
  },
  {
   "cell_type": "markdown",
   "id": "6660bcae-3945-4938-bdfc-156cda09baa8",
   "metadata": {},
   "source": [
    "### 2.1 Grafico de Barras\n",
    "Para los graficos usaremos la data de \"SleepTime\". Esta variable nos indica las horas de sueño de los pacientes. Analisaremos los datos para hallar cuales son las horas de sueño mas comunes."
   ]
  },
  {
   "cell_type": "code",
   "execution_count": 96,
   "id": "1a265266-0f3c-4e73-97e6-ed6722208c23",
   "metadata": {},
   "outputs": [
    {
     "data": {
      "text/plain": [
       "count    319795.000000\n",
       "mean          7.097075\n",
       "std           1.436007\n",
       "min           1.000000\n",
       "25%           6.000000\n",
       "50%           7.000000\n",
       "75%           8.000000\n",
       "max          24.000000\n",
       "Name: SleepTime, dtype: float64"
      ]
     },
     "execution_count": 96,
     "metadata": {},
     "output_type": "execute_result"
    }
   ],
   "source": [
    "# Revisamos las caracteristicas estadisticas\n",
    "df.SleepTime.describe()"
   ]
  },
  {
   "cell_type": "code",
   "execution_count": 85,
   "id": "a1866a8f-3fcd-4184-bc0a-83778ac4d176",
   "metadata": {},
   "outputs": [
    {
     "data": {
      "text/html": [
       "<div>\n",
       "<style scoped>\n",
       "    .dataframe tbody tr th:only-of-type {\n",
       "        vertical-align: middle;\n",
       "    }\n",
       "\n",
       "    .dataframe tbody tr th {\n",
       "        vertical-align: top;\n",
       "    }\n",
       "\n",
       "    .dataframe thead th {\n",
       "        text-align: right;\n",
       "    }\n",
       "</style>\n",
       "<table border=\"1\" class=\"dataframe\">\n",
       "  <thead>\n",
       "    <tr style=\"text-align: right;\">\n",
       "      <th></th>\n",
       "      <th>SleepTime</th>\n",
       "    </tr>\n",
       "  </thead>\n",
       "  <tbody>\n",
       "    <tr>\n",
       "      <th>0</th>\n",
       "      <td>5.0</td>\n",
       "    </tr>\n",
       "    <tr>\n",
       "      <th>1</th>\n",
       "      <td>7.0</td>\n",
       "    </tr>\n",
       "    <tr>\n",
       "      <th>2</th>\n",
       "      <td>8.0</td>\n",
       "    </tr>\n",
       "    <tr>\n",
       "      <th>3</th>\n",
       "      <td>6.0</td>\n",
       "    </tr>\n",
       "    <tr>\n",
       "      <th>4</th>\n",
       "      <td>8.0</td>\n",
       "    </tr>\n",
       "  </tbody>\n",
       "</table>\n",
       "</div>"
      ],
      "text/plain": [
       "   SleepTime\n",
       "0        5.0\n",
       "1        7.0\n",
       "2        8.0\n",
       "3        6.0\n",
       "4        8.0"
      ]
     },
     "execution_count": 85,
     "metadata": {},
     "output_type": "execute_result"
    }
   ],
   "source": [
    "# Dado que solo trabajaremos con \"SleepTime\", crearemos un nuevo dataframe para aligerar la data.\n",
    "df_st = pd.DataFrame(df[\"SleepTime\"])\n",
    "df_st.head()"
   ]
  },
  {
   "cell_type": "code",
   "execution_count": 86,
   "id": "3c80b56a-1c04-4ab6-b1b8-ef8eab0e784c",
   "metadata": {},
   "outputs": [
    {
     "data": {
      "text/plain": [
       "<AxesSubplot:xlabel='SleepTime'>"
      ]
     },
     "execution_count": 86,
     "metadata": {},
     "output_type": "execute_result"
    },
    {
     "data": {
      "image/png": "[encoded data removed]",
      "text/plain": [
       "<Figure size 432x288 with 1 Axes>"
      ]
     },
     "metadata": {
      "needs_background": "light"
     },
     "output_type": "display_data"
    }
   ],
   "source": [
    "# Creamos el grafico de barras ordenado por las horas de sueño.\n",
    "df_st.value_counts().sort_index().plot.bar()"
   ]
  },
  {
   "cell_type": "markdown",
   "id": "4748b201-8c29-4538-bf5b-1a912cc27b1c",
   "metadata": {},
   "source": [
    "### 2.2 Grafico de torta\n",
    "Crearemos un grafico de torta que nos muestre el top 5 de las horas de sueño."
   ]
  },
  {
   "cell_type": "code",
   "execution_count": 87,
   "id": "2dd5697b-1aa5-4dcf-8829-8274aa8ceed2",
   "metadata": {},
   "outputs": [
    {
     "data": {
      "text/html": [
       "<div>\n",
       "<style scoped>\n",
       "    .dataframe tbody tr th:only-of-type {\n",
       "        vertical-align: middle;\n",
       "    }\n",
       "\n",
       "    .dataframe tbody tr th {\n",
       "        vertical-align: top;\n",
       "    }\n",
       "\n",
       "    .dataframe thead th {\n",
       "        text-align: right;\n",
       "    }\n",
       "</style>\n",
       "<table border=\"1\" class=\"dataframe\">\n",
       "  <thead>\n",
       "    <tr style=\"text-align: right;\">\n",
       "      <th></th>\n",
       "      <th>index</th>\n",
       "      <th>SleepTime</th>\n",
       "    </tr>\n",
       "  </thead>\n",
       "  <tbody>\n",
       "    <tr>\n",
       "      <th>0</th>\n",
       "      <td>7.0</td>\n",
       "      <td>97751</td>\n",
       "    </tr>\n",
       "    <tr>\n",
       "      <th>1</th>\n",
       "      <td>8.0</td>\n",
       "      <td>97602</td>\n",
       "    </tr>\n",
       "    <tr>\n",
       "      <th>2</th>\n",
       "      <td>6.0</td>\n",
       "      <td>66721</td>\n",
       "    </tr>\n",
       "    <tr>\n",
       "      <th>3</th>\n",
       "      <td>5.0</td>\n",
       "      <td>19184</td>\n",
       "    </tr>\n",
       "    <tr>\n",
       "      <th>4</th>\n",
       "      <td>9.0</td>\n",
       "      <td>16041</td>\n",
       "    </tr>\n",
       "  </tbody>\n",
       "</table>\n",
       "</div>"
      ],
      "text/plain": [
       "   index  SleepTime\n",
       "0    7.0      97751\n",
       "1    8.0      97602\n",
       "2    6.0      66721\n",
       "3    5.0      19184\n",
       "4    9.0      16041"
      ]
     },
     "execution_count": 87,
     "metadata": {},
     "output_type": "execute_result"
    }
   ],
   "source": [
    "# Armaremos un nuevo dataframe, seleccionando unicamente el top 5 de las horas de sueño. El resto de las horas las agruparemos como \"otros\":\n",
    "nuevo = pd.DataFrame(df[\"SleepTime\"].value_counts().reset_index())\n",
    "df_top5 = nuevo[:5].copy()\n",
    "df_top5"
   ]
  },
  {
   "cell_type": "code",
   "execution_count": 88,
   "id": "c1390cd4-6e42-45f7-ac46-ca77a6879cde",
   "metadata": {},
   "outputs": [
    {
     "data": {
      "text/plain": [
       "['7.0 Horas', '8.0 Horas', '6.0 Horas', '5.0 Horas', '9.0 Horas', 'otros']"
      ]
     },
     "execution_count": 88,
     "metadata": {},
     "output_type": "execute_result"
    }
   ],
   "source": [
    "# Creamos una lista con los Labels a usar:\n",
    "labels =list(df_top5[\"index\"])\n",
    "labels = [str(x) + \" Horas\" for x in labels]\n",
    "labels.append(\"otros\")\n",
    "labels"
   ]
  },
  {
   "cell_type": "code",
   "execution_count": 100,
   "id": "4f322641-4329-4bc2-971e-95efbb33abba",
   "metadata": {},
   "outputs": [
    {
     "data": {
      "text/plain": [
       "<matplotlib.legend.Legend at 0x1eb3c79ce50>"
      ]
     },
     "execution_count": 100,
     "metadata": {},
     "output_type": "execute_result"
    },
    {
     "data": {
      "image/png": "[encoded data removed]",
      "text/plain": [
       "<Figure size 720x720 with 1 Axes>"
      ]
     },
     "metadata": {},
     "output_type": "display_data"
    }
   ],
   "source": [
    "# Sumamos la data del resto de horas y las añadimos a \"otros\". Finalmente graficamos.\n",
    "df_top5.loc[\"otros\"] = nuevo['SleepTime'][5:].sum()\n",
    "fig, ax = plt.subplots(figsize = (10,10))\n",
    "df_top5.plot(kind = 'pie', \n",
    "             y = 'SleepTime', \n",
    "             autopct='%1.2f%%', \n",
    "             ax = ax, \n",
    "             label=\"Top 5 - Horas de sueño\", \n",
    "             labels = labels, \n",
    "             startangle=90, \n",
    "             shadow = True)\n",
    "plt.legend(fontsize = 12, loc=\"lower left\")"
   ]
  },
  {
   "cell_type": "markdown",
   "id": "adc4ffff-5a9f-47a7-8749-97b776129d29",
   "metadata": {},
   "source": [
    "### 2.3 Grafico de  Caja"
   ]
  },
  {
   "cell_type": "code",
   "execution_count": 90,
   "id": "af0fbf0b-ea9f-42e3-b7ca-d00768919c55",
   "metadata": {},
   "outputs": [
    {
     "data": {
      "text/plain": [
       "<AxesSubplot:xlabel='SleepTime'>"
      ]
     },
     "execution_count": 90,
     "metadata": {},
     "output_type": "execute_result"
    },
    {
     "data": {
      "image/png": "[encoded data removed]",
      "text/plain": [
       "<Figure size 432x288 with 1 Axes>"
      ]
     },
     "metadata": {
      "needs_background": "light"
     },
     "output_type": "display_data"
    }
   ],
   "source": [
    "# Creamos un boxplot para ver los outliers\n",
    "sns.boxplot(x = df_st[\"SleepTime\"], data = df_st)"
   ]
  },
  {
   "cell_type": "markdown",
   "id": "1278ee77-e906-4abe-9fb3-92e96e296431",
   "metadata": {},
   "source": [
    "Se observa que la cantidad de horas de sueño mas comunes son 6, 7 y 8 horas, que representan mas del 75% de las observaciones. Tambien hay datos extremos que van desde 1 hora(\"insomnio extremo\"), hasta 24 horas de sueño(\"hipersomnia\")."
   ]
  },
  {
   "cell_type": "markdown",
   "id": "164e0268-3424-4a5e-a56d-1bd2f990336c",
   "metadata": {},
   "source": [
    "---"
   ]
  },
  {
   "cell_type": "markdown",
   "id": "809b6e33-4870-488c-9c96-b88df45576f5",
   "metadata": {
    "tags": []
   },
   "source": [
    "## 3. Distribución de frecuencias para SleepTime\n",
    "Crearemos un nuevo dataframe con la distribución de frecuencias de las horas de sueño"
   ]
  },
  {
   "cell_type": "code",
   "execution_count": 91,
   "id": "f71e3d67-0fdf-435c-b471-b263fc23121d",
   "metadata": {},
   "outputs": [
    {
     "data": {
      "text/html": [
       "<div>\n",
       "<style scoped>\n",
       "    .dataframe tbody tr th:only-of-type {\n",
       "        vertical-align: middle;\n",
       "    }\n",
       "\n",
       "    .dataframe tbody tr th {\n",
       "        vertical-align: top;\n",
       "    }\n",
       "\n",
       "    .dataframe thead th {\n",
       "        text-align: right;\n",
       "    }\n",
       "</style>\n",
       "<table border=\"1\" class=\"dataframe\">\n",
       "  <thead>\n",
       "    <tr style=\"text-align: right;\">\n",
       "      <th></th>\n",
       "      <th>F_Abso</th>\n",
       "    </tr>\n",
       "  </thead>\n",
       "  <tbody>\n",
       "    <tr>\n",
       "      <th>1.0</th>\n",
       "      <td>551</td>\n",
       "    </tr>\n",
       "    <tr>\n",
       "      <th>2.0</th>\n",
       "      <td>788</td>\n",
       "    </tr>\n",
       "    <tr>\n",
       "      <th>3.0</th>\n",
       "      <td>1992</td>\n",
       "    </tr>\n",
       "    <tr>\n",
       "      <th>4.0</th>\n",
       "      <td>7750</td>\n",
       "    </tr>\n",
       "    <tr>\n",
       "      <th>5.0</th>\n",
       "      <td>19184</td>\n",
       "    </tr>\n",
       "  </tbody>\n",
       "</table>\n",
       "</div>"
      ],
      "text/plain": [
       "     F_Abso\n",
       "1.0     551\n",
       "2.0     788\n",
       "3.0    1992\n",
       "4.0    7750\n",
       "5.0   19184"
      ]
     },
     "execution_count": 91,
     "metadata": {},
     "output_type": "execute_result"
    }
   ],
   "source": [
    "# Iniciamos creando el dataframe, con los datos de SleepTime, ordenados, y cambiando el nombre a Frecuencia Absoluta (\"F_Abso\")\n",
    "HS_df = pd.DataFrame(df[\"SleepTime\"].value_counts().sort_index())\n",
    "HS_df.rename(columns = {\"SleepTime\":\"F_Abso\"}, inplace=True)\n",
    "HS_df.head()"
   ]
  },
  {
   "cell_type": "code",
   "execution_count": 92,
   "id": "85c07929-2b71-42c3-affb-fa3c1d7e4a2e",
   "metadata": {},
   "outputs": [
    {
     "data": {
      "text/html": [
       "<div>\n",
       "<style scoped>\n",
       "    .dataframe tbody tr th:only-of-type {\n",
       "        vertical-align: middle;\n",
       "    }\n",
       "\n",
       "    .dataframe tbody tr th {\n",
       "        vertical-align: top;\n",
       "    }\n",
       "\n",
       "    .dataframe thead th {\n",
       "        text-align: right;\n",
       "    }\n",
       "</style>\n",
       "<table border=\"1\" class=\"dataframe\">\n",
       "  <thead>\n",
       "    <tr style=\"text-align: right;\">\n",
       "      <th></th>\n",
       "      <th>F_Abso</th>\n",
       "      <th>F_Abso_Acu</th>\n",
       "    </tr>\n",
       "  </thead>\n",
       "  <tbody>\n",
       "    <tr>\n",
       "      <th>1.0</th>\n",
       "      <td>551</td>\n",
       "      <td>551</td>\n",
       "    </tr>\n",
       "    <tr>\n",
       "      <th>2.0</th>\n",
       "      <td>788</td>\n",
       "      <td>1339</td>\n",
       "    </tr>\n",
       "    <tr>\n",
       "      <th>3.0</th>\n",
       "      <td>1992</td>\n",
       "      <td>3331</td>\n",
       "    </tr>\n",
       "    <tr>\n",
       "      <th>4.0</th>\n",
       "      <td>7750</td>\n",
       "      <td>11081</td>\n",
       "    </tr>\n",
       "    <tr>\n",
       "      <th>5.0</th>\n",
       "      <td>19184</td>\n",
       "      <td>30265</td>\n",
       "    </tr>\n",
       "  </tbody>\n",
       "</table>\n",
       "</div>"
      ],
      "text/plain": [
       "     F_Abso  F_Abso_Acu\n",
       "1.0     551         551\n",
       "2.0     788        1339\n",
       "3.0    1992        3331\n",
       "4.0    7750       11081\n",
       "5.0   19184       30265"
      ]
     },
     "execution_count": 92,
     "metadata": {},
     "output_type": "execute_result"
    }
   ],
   "source": [
    "# Creamos la columna de Frecuencias Absolutas Acumuladas (\"F_Abso_Acu\").\n",
    "valores = HS_df[\"F_Abso\"].values\n",
    "acumulada = []\n",
    "valor = 0\n",
    "for x in valores:\n",
    "    valor = valor + x\n",
    "    acumulada.append(valor)\n",
    "    \n",
    "HS_df[\"F_Abso_Acu\"] = acumulada\n",
    "HS_df.head()"
   ]
  },
  {
   "cell_type": "code",
   "execution_count": 93,
   "id": "13a94043-ed81-4b01-befa-b6b396de9641",
   "metadata": {},
   "outputs": [
    {
     "data": {
      "text/html": [
       "<div>\n",
       "<style scoped>\n",
       "    .dataframe tbody tr th:only-of-type {\n",
       "        vertical-align: middle;\n",
       "    }\n",
       "\n",
       "    .dataframe tbody tr th {\n",
       "        vertical-align: top;\n",
       "    }\n",
       "\n",
       "    .dataframe thead th {\n",
       "        text-align: right;\n",
       "    }\n",
       "</style>\n",
       "<table border=\"1\" class=\"dataframe\">\n",
       "  <thead>\n",
       "    <tr style=\"text-align: right;\">\n",
       "      <th></th>\n",
       "      <th>F_Abso</th>\n",
       "      <th>F_Abso_Acu</th>\n",
       "      <th>F_Rel_%</th>\n",
       "    </tr>\n",
       "  </thead>\n",
       "  <tbody>\n",
       "    <tr>\n",
       "      <th>1.0</th>\n",
       "      <td>551</td>\n",
       "      <td>551</td>\n",
       "      <td>0.172298</td>\n",
       "    </tr>\n",
       "    <tr>\n",
       "      <th>2.0</th>\n",
       "      <td>788</td>\n",
       "      <td>1339</td>\n",
       "      <td>0.246408</td>\n",
       "    </tr>\n",
       "    <tr>\n",
       "      <th>3.0</th>\n",
       "      <td>1992</td>\n",
       "      <td>3331</td>\n",
       "      <td>0.622899</td>\n",
       "    </tr>\n",
       "    <tr>\n",
       "      <th>4.0</th>\n",
       "      <td>7750</td>\n",
       "      <td>11081</td>\n",
       "      <td>2.423428</td>\n",
       "    </tr>\n",
       "    <tr>\n",
       "      <th>5.0</th>\n",
       "      <td>19184</td>\n",
       "      <td>30265</td>\n",
       "      <td>5.998843</td>\n",
       "    </tr>\n",
       "  </tbody>\n",
       "</table>\n",
       "</div>"
      ],
      "text/plain": [
       "     F_Abso  F_Abso_Acu   F_Rel_%\n",
       "1.0     551         551  0.172298\n",
       "2.0     788        1339  0.246408\n",
       "3.0    1992        3331  0.622899\n",
       "4.0    7750       11081  2.423428\n",
       "5.0   19184       30265  5.998843"
      ]
     },
     "execution_count": 93,
     "metadata": {},
     "output_type": "execute_result"
    }
   ],
   "source": [
    "# Agregamos la columna de Frecuencia relativa (\"F_Rel_%\")\n",
    "HS_df[\"F_Rel_%\"] = 100 * HS_df[\"F_Abso\"]/len(df.SleepTime)\n",
    "HS_df.head()"
   ]
  },
  {
   "cell_type": "code",
   "execution_count": 94,
   "id": "abd5d7d5-59db-4537-83d7-78984e84ccb5",
   "metadata": {
    "tags": []
   },
   "outputs": [],
   "source": [
    "# Agregamos la Frecuencia Relativa Acumulada (\"F_Rel_%_Acu\")\n",
    "valores2 = HS_df[\"F_Rel_%\"].values\n",
    "acumulada2 = []\n",
    "valor2 = 0\n",
    "for x in valores2:\n",
    "    valor2 = valor2 + x\n",
    "    acumulada2.append(valor2)\n",
    "    \n",
    "HS_df[\"F_Rel_%_Acu\"] = acumulada2"
   ]
  },
  {
   "cell_type": "code",
   "execution_count": 95,
   "id": "0ab479df-1500-4960-b01d-f11bf494d086",
   "metadata": {},
   "outputs": [
    {
     "data": {
      "text/html": [
       "<div>\n",
       "<style scoped>\n",
       "    .dataframe tbody tr th:only-of-type {\n",
       "        vertical-align: middle;\n",
       "    }\n",
       "\n",
       "    .dataframe tbody tr th {\n",
       "        vertical-align: top;\n",
       "    }\n",
       "\n",
       "    .dataframe thead th {\n",
       "        text-align: right;\n",
       "    }\n",
       "</style>\n",
       "<table border=\"1\" class=\"dataframe\">\n",
       "  <thead>\n",
       "    <tr style=\"text-align: right;\">\n",
       "      <th></th>\n",
       "      <th>F_Abso</th>\n",
       "      <th>F_Abso_Acu</th>\n",
       "      <th>F_Rel_%</th>\n",
       "      <th>F_Rel_%_Acu</th>\n",
       "    </tr>\n",
       "  </thead>\n",
       "  <tbody>\n",
       "    <tr>\n",
       "      <th>1.0</th>\n",
       "      <td>551</td>\n",
       "      <td>551</td>\n",
       "      <td>0.172298</td>\n",
       "      <td>0.172298</td>\n",
       "    </tr>\n",
       "    <tr>\n",
       "      <th>2.0</th>\n",
       "      <td>788</td>\n",
       "      <td>1339</td>\n",
       "      <td>0.246408</td>\n",
       "      <td>0.418706</td>\n",
       "    </tr>\n",
       "    <tr>\n",
       "      <th>3.0</th>\n",
       "      <td>1992</td>\n",
       "      <td>3331</td>\n",
       "      <td>0.622899</td>\n",
       "      <td>1.041605</td>\n",
       "    </tr>\n",
       "    <tr>\n",
       "      <th>4.0</th>\n",
       "      <td>7750</td>\n",
       "      <td>11081</td>\n",
       "      <td>2.423428</td>\n",
       "      <td>3.465032</td>\n",
       "    </tr>\n",
       "    <tr>\n",
       "      <th>5.0</th>\n",
       "      <td>19184</td>\n",
       "      <td>30265</td>\n",
       "      <td>5.998843</td>\n",
       "      <td>9.463875</td>\n",
       "    </tr>\n",
       "    <tr>\n",
       "      <th>6.0</th>\n",
       "      <td>66721</td>\n",
       "      <td>96986</td>\n",
       "      <td>20.863678</td>\n",
       "      <td>30.327554</td>\n",
       "    </tr>\n",
       "    <tr>\n",
       "      <th>7.0</th>\n",
       "      <td>97751</td>\n",
       "      <td>194737</td>\n",
       "      <td>30.566769</td>\n",
       "      <td>60.894323</td>\n",
       "    </tr>\n",
       "    <tr>\n",
       "      <th>8.0</th>\n",
       "      <td>97602</td>\n",
       "      <td>292339</td>\n",
       "      <td>30.520177</td>\n",
       "      <td>91.414500</td>\n",
       "    </tr>\n",
       "    <tr>\n",
       "      <th>9.0</th>\n",
       "      <td>16041</td>\n",
       "      <td>308380</td>\n",
       "      <td>5.016026</td>\n",
       "      <td>96.430526</td>\n",
       "    </tr>\n",
       "    <tr>\n",
       "      <th>10.0</th>\n",
       "      <td>7796</td>\n",
       "      <td>316176</td>\n",
       "      <td>2.437812</td>\n",
       "      <td>98.868338</td>\n",
       "    </tr>\n",
       "    <tr>\n",
       "      <th>11.0</th>\n",
       "      <td>415</td>\n",
       "      <td>316591</td>\n",
       "      <td>0.129771</td>\n",
       "      <td>98.998108</td>\n",
       "    </tr>\n",
       "    <tr>\n",
       "      <th>12.0</th>\n",
       "      <td>2205</td>\n",
       "      <td>318796</td>\n",
       "      <td>0.689504</td>\n",
       "      <td>99.687612</td>\n",
       "    </tr>\n",
       "    <tr>\n",
       "      <th>13.0</th>\n",
       "      <td>97</td>\n",
       "      <td>318893</td>\n",
       "      <td>0.030332</td>\n",
       "      <td>99.717944</td>\n",
       "    </tr>\n",
       "    <tr>\n",
       "      <th>14.0</th>\n",
       "      <td>243</td>\n",
       "      <td>319136</td>\n",
       "      <td>0.075986</td>\n",
       "      <td>99.793930</td>\n",
       "    </tr>\n",
       "    <tr>\n",
       "      <th>15.0</th>\n",
       "      <td>189</td>\n",
       "      <td>319325</td>\n",
       "      <td>0.059100</td>\n",
       "      <td>99.853031</td>\n",
       "    </tr>\n",
       "    <tr>\n",
       "      <th>16.0</th>\n",
       "      <td>236</td>\n",
       "      <td>319561</td>\n",
       "      <td>0.073797</td>\n",
       "      <td>99.926828</td>\n",
       "    </tr>\n",
       "    <tr>\n",
       "      <th>17.0</th>\n",
       "      <td>21</td>\n",
       "      <td>319582</td>\n",
       "      <td>0.006567</td>\n",
       "      <td>99.933395</td>\n",
       "    </tr>\n",
       "    <tr>\n",
       "      <th>18.0</th>\n",
       "      <td>102</td>\n",
       "      <td>319684</td>\n",
       "      <td>0.031895</td>\n",
       "      <td>99.965290</td>\n",
       "    </tr>\n",
       "    <tr>\n",
       "      <th>19.0</th>\n",
       "      <td>3</td>\n",
       "      <td>319687</td>\n",
       "      <td>0.000938</td>\n",
       "      <td>99.966228</td>\n",
       "    </tr>\n",
       "    <tr>\n",
       "      <th>20.0</th>\n",
       "      <td>64</td>\n",
       "      <td>319751</td>\n",
       "      <td>0.020013</td>\n",
       "      <td>99.986241</td>\n",
       "    </tr>\n",
       "    <tr>\n",
       "      <th>21.0</th>\n",
       "      <td>2</td>\n",
       "      <td>319753</td>\n",
       "      <td>0.000625</td>\n",
       "      <td>99.986867</td>\n",
       "    </tr>\n",
       "    <tr>\n",
       "      <th>22.0</th>\n",
       "      <td>9</td>\n",
       "      <td>319762</td>\n",
       "      <td>0.002814</td>\n",
       "      <td>99.989681</td>\n",
       "    </tr>\n",
       "    <tr>\n",
       "      <th>23.0</th>\n",
       "      <td>3</td>\n",
       "      <td>319765</td>\n",
       "      <td>0.000938</td>\n",
       "      <td>99.990619</td>\n",
       "    </tr>\n",
       "    <tr>\n",
       "      <th>24.0</th>\n",
       "      <td>30</td>\n",
       "      <td>319795</td>\n",
       "      <td>0.009381</td>\n",
       "      <td>100.000000</td>\n",
       "    </tr>\n",
       "  </tbody>\n",
       "</table>\n",
       "</div>"
      ],
      "text/plain": [
       "      F_Abso  F_Abso_Acu    F_Rel_%  F_Rel_%_Acu\n",
       "1.0      551         551   0.172298     0.172298\n",
       "2.0      788        1339   0.246408     0.418706\n",
       "3.0     1992        3331   0.622899     1.041605\n",
       "4.0     7750       11081   2.423428     3.465032\n",
       "5.0    19184       30265   5.998843     9.463875\n",
       "6.0    66721       96986  20.863678    30.327554\n",
       "7.0    97751      194737  30.566769    60.894323\n",
       "8.0    97602      292339  30.520177    91.414500\n",
       "9.0    16041      308380   5.016026    96.430526\n",
       "10.0    7796      316176   2.437812    98.868338\n",
       "11.0     415      316591   0.129771    98.998108\n",
       "12.0    2205      318796   0.689504    99.687612\n",
       "13.0      97      318893   0.030332    99.717944\n",
       "14.0     243      319136   0.075986    99.793930\n",
       "15.0     189      319325   0.059100    99.853031\n",
       "16.0     236      319561   0.073797    99.926828\n",
       "17.0      21      319582   0.006567    99.933395\n",
       "18.0     102      319684   0.031895    99.965290\n",
       "19.0       3      319687   0.000938    99.966228\n",
       "20.0      64      319751   0.020013    99.986241\n",
       "21.0       2      319753   0.000625    99.986867\n",
       "22.0       9      319762   0.002814    99.989681\n",
       "23.0       3      319765   0.000938    99.990619\n",
       "24.0      30      319795   0.009381   100.000000"
      ]
     },
     "execution_count": 95,
     "metadata": {},
     "output_type": "execute_result"
    }
   ],
   "source": [
    "# Finalmente visualizamos la tabla completa\n",
    "HS_df"
   ]
  }
 ],
 "metadata": {
  "kernelspec": {
   "display_name": "Python 3 (ipykernel)",
   "language": "python",
   "name": "python3"
  },
  "language_info": {
   "codemirror_mode": {
    "name": "ipython",
    "version": 3
   },
   "file_extension": ".py",
   "mimetype": "text/x-python",
   "name": "python",
   "nbconvert_exporter": "python",
   "pygments_lexer": "ipython3",
   "version": "3.9.7"
  }
 },
 "nbformat": 4,
 "nbformat_minor": 5
}
