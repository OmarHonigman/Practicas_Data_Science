{
 "cells": [
  {
   "cell_type": "markdown",
   "id": "28097a96-1d8f-4ab5-9040-7abb63a9ef4d",
   "metadata": {},
   "source": [
    "# Predicción de enfermedades cardiacas con Arboles de Decisión"
   ]
  },
  {
   "cell_type": "markdown",
   "id": "dfbec2d7-4feb-4483-8c6c-48dd175bea7f",
   "metadata": {
    "tags": []
   },
   "source": [
    "## 1. Presentación:"
   ]
  },
  {
   "cell_type": "markdown",
   "id": "1904bdcc-8e63-4e40-ba0f-006e93cdb5b1",
   "metadata": {},
   "source": [
    "Somos un equipo de trabajo conformado por estudiantes de Coderhouse.\n",
    " \n",
    "Nos planteamos predecir ataques cardíacos en relación a un rango etario y género, por lo tanto el análisis que realizaremos será tanto bivariado como multivariado.\n",
    " \n",
    "El equipo se encuentra conformado por:<br>\n",
    "- Richard Hervier\n",
    "- Omar Honigman\n",
    "- Nicolas Abihaggle\n",
    "- Mayco Ñañez"
   ]
  },
  {
   "cell_type": "markdown",
   "id": "af043b8e-1207-46a1-a072-463bcbd1832d",
   "metadata": {},
   "source": [
    "### 1.1 Objetivos del trabajo:"
   ]
  },
  {
   "cell_type": "markdown",
   "id": "ddc5222a-fa4e-4af9-87f1-e87a3ca24dcc",
   "metadata": {},
   "source": [
    "Las enfermedades cardiovasculartes son un conjunto de trastornos del corazón responsables de millones de fallecimientos al año.\n",
    "Por lo tanto, queremos generar un modelo que permita pesquisar indicios de si los pacientes podrían tener complicaciones cardíacas, a los fines de que los pacientes reciban tratamientos para prevenir ataques cardíacos en relación a un rango etario y género."
   ]
  },
  {
   "cell_type": "markdown",
   "id": "e208934e-0d5a-427d-8b66-c832507c2b49",
   "metadata": {
    "tags": []
   },
   "source": [
    "## 2. Revision del DataFrame"
   ]
  },
  {
   "cell_type": "markdown",
   "id": "a5944a51-4a38-4063-b985-46e2e4f71ab0",
   "metadata": {},
   "source": [
    "### 2.1 Importación de las librerías a usar:"
   ]
  },
  {
   "cell_type": "code",
   "execution_count": 24,
   "id": "c1719d5e-8664-4d0b-a95a-1bd1685b2a3e",
   "metadata": {},
   "outputs": [],
   "source": [
    "import numpy as np\n",
    "import pandas as pd\n",
    "import seaborn as sns\n",
    "import matplotlib.pyplot as plt\n",
    "import pandas_profiling"
   ]
  },
  {
   "cell_type": "markdown",
   "id": "efe9423d-607d-42a1-b2e8-4e0c161daf19",
   "metadata": {},
   "source": [
    "### 2.2 Creación del dataframe:"
   ]
  },
  {
   "cell_type": "code",
   "execution_count": 25,
   "id": "a9226a4c-1595-423a-8a8f-71761a59e60b",
   "metadata": {},
   "outputs": [
    {
     "data": {
      "text/html": [
       "<div>\n",
       "<style scoped>\n",
       "    .dataframe tbody tr th:only-of-type {\n",
       "        vertical-align: middle;\n",
       "    }\n",
       "\n",
       "    .dataframe tbody tr th {\n",
       "        vertical-align: top;\n",
       "    }\n",
       "\n",
       "    .dataframe thead th {\n",
       "        text-align: right;\n",
       "    }\n",
       "</style>\n",
       "<table border=\"1\" class=\"dataframe\">\n",
       "  <thead>\n",
       "    <tr style=\"text-align: right;\">\n",
       "      <th></th>\n",
       "      <th>HeartDisease</th>\n",
       "      <th>BMI</th>\n",
       "      <th>Smoking</th>\n",
       "      <th>AlcoholDrinking</th>\n",
       "      <th>Stroke</th>\n",
       "      <th>PhysicalHealth</th>\n",
       "      <th>MentalHealth</th>\n",
       "      <th>DiffWalking</th>\n",
       "      <th>Sex</th>\n",
       "      <th>AgeCategory</th>\n",
       "      <th>Race</th>\n",
       "      <th>Diabetic</th>\n",
       "      <th>PhysicalActivity</th>\n",
       "      <th>GenHealth</th>\n",
       "      <th>SleepTime</th>\n",
       "      <th>Asthma</th>\n",
       "      <th>KidneyDisease</th>\n",
       "      <th>SkinCancer</th>\n",
       "    </tr>\n",
       "  </thead>\n",
       "  <tbody>\n",
       "    <tr>\n",
       "      <th>0</th>\n",
       "      <td>No</td>\n",
       "      <td>16.60</td>\n",
       "      <td>Yes</td>\n",
       "      <td>No</td>\n",
       "      <td>No</td>\n",
       "      <td>3.0</td>\n",
       "      <td>30.0</td>\n",
       "      <td>No</td>\n",
       "      <td>Female</td>\n",
       "      <td>55-59</td>\n",
       "      <td>White</td>\n",
       "      <td>Yes</td>\n",
       "      <td>Yes</td>\n",
       "      <td>Very good</td>\n",
       "      <td>5.0</td>\n",
       "      <td>Yes</td>\n",
       "      <td>No</td>\n",
       "      <td>Yes</td>\n",
       "    </tr>\n",
       "    <tr>\n",
       "      <th>1</th>\n",
       "      <td>No</td>\n",
       "      <td>20.34</td>\n",
       "      <td>No</td>\n",
       "      <td>No</td>\n",
       "      <td>Yes</td>\n",
       "      <td>0.0</td>\n",
       "      <td>0.0</td>\n",
       "      <td>No</td>\n",
       "      <td>Female</td>\n",
       "      <td>80 or older</td>\n",
       "      <td>White</td>\n",
       "      <td>No</td>\n",
       "      <td>Yes</td>\n",
       "      <td>Very good</td>\n",
       "      <td>7.0</td>\n",
       "      <td>No</td>\n",
       "      <td>No</td>\n",
       "      <td>No</td>\n",
       "    </tr>\n",
       "    <tr>\n",
       "      <th>2</th>\n",
       "      <td>No</td>\n",
       "      <td>26.58</td>\n",
       "      <td>Yes</td>\n",
       "      <td>No</td>\n",
       "      <td>No</td>\n",
       "      <td>20.0</td>\n",
       "      <td>30.0</td>\n",
       "      <td>No</td>\n",
       "      <td>Male</td>\n",
       "      <td>65-69</td>\n",
       "      <td>White</td>\n",
       "      <td>Yes</td>\n",
       "      <td>Yes</td>\n",
       "      <td>Fair</td>\n",
       "      <td>8.0</td>\n",
       "      <td>Yes</td>\n",
       "      <td>No</td>\n",
       "      <td>No</td>\n",
       "    </tr>\n",
       "    <tr>\n",
       "      <th>3</th>\n",
       "      <td>No</td>\n",
       "      <td>24.21</td>\n",
       "      <td>No</td>\n",
       "      <td>No</td>\n",
       "      <td>No</td>\n",
       "      <td>0.0</td>\n",
       "      <td>0.0</td>\n",
       "      <td>No</td>\n",
       "      <td>Female</td>\n",
       "      <td>75-79</td>\n",
       "      <td>White</td>\n",
       "      <td>No</td>\n",
       "      <td>No</td>\n",
       "      <td>Good</td>\n",
       "      <td>6.0</td>\n",
       "      <td>No</td>\n",
       "      <td>No</td>\n",
       "      <td>Yes</td>\n",
       "    </tr>\n",
       "    <tr>\n",
       "      <th>4</th>\n",
       "      <td>No</td>\n",
       "      <td>23.71</td>\n",
       "      <td>No</td>\n",
       "      <td>No</td>\n",
       "      <td>No</td>\n",
       "      <td>28.0</td>\n",
       "      <td>0.0</td>\n",
       "      <td>Yes</td>\n",
       "      <td>Female</td>\n",
       "      <td>40-44</td>\n",
       "      <td>White</td>\n",
       "      <td>No</td>\n",
       "      <td>Yes</td>\n",
       "      <td>Very good</td>\n",
       "      <td>8.0</td>\n",
       "      <td>No</td>\n",
       "      <td>No</td>\n",
       "      <td>No</td>\n",
       "    </tr>\n",
       "  </tbody>\n",
       "</table>\n",
       "</div>"
      ],
      "text/plain": [
       "  HeartDisease    BMI Smoking AlcoholDrinking Stroke  PhysicalHealth  \\\n",
       "0           No  16.60     Yes              No     No             3.0   \n",
       "1           No  20.34      No              No    Yes             0.0   \n",
       "2           No  26.58     Yes              No     No            20.0   \n",
       "3           No  24.21      No              No     No             0.0   \n",
       "4           No  23.71      No              No     No            28.0   \n",
       "\n",
       "   MentalHealth DiffWalking     Sex  AgeCategory   Race Diabetic  \\\n",
       "0          30.0          No  Female        55-59  White      Yes   \n",
       "1           0.0          No  Female  80 or older  White       No   \n",
       "2          30.0          No    Male        65-69  White      Yes   \n",
       "3           0.0          No  Female        75-79  White       No   \n",
       "4           0.0         Yes  Female        40-44  White       No   \n",
       "\n",
       "  PhysicalActivity  GenHealth  SleepTime Asthma KidneyDisease SkinCancer  \n",
       "0              Yes  Very good        5.0    Yes            No        Yes  \n",
       "1              Yes  Very good        7.0     No            No         No  \n",
       "2              Yes       Fair        8.0    Yes            No         No  \n",
       "3               No       Good        6.0     No            No        Yes  \n",
       "4              Yes  Very good        8.0     No            No         No  "
      ]
     },
     "execution_count": 25,
     "metadata": {},
     "output_type": "execute_result"
    }
   ],
   "source": [
    "df = pd.read_csv(\"data_final.csv\")\n",
    "df.head()"
   ]
  },
  {
   "cell_type": "markdown",
   "id": "72e66edf-355e-49d5-8f77-00030db548fb",
   "metadata": {
    "tags": []
   },
   "source": [
    "### 2.3 Caracteristicas:"
   ]
  },
  {
   "cell_type": "code",
   "execution_count": 26,
   "id": "7f215d01-bf7c-44fa-94ec-4959a0419cfd",
   "metadata": {},
   "outputs": [
    {
     "name": "stdout",
     "output_type": "stream",
     "text": [
      "\u001b[1mLa data tiene 319795 observaciones y 18 variables.\n"
     ]
    }
   ],
   "source": [
    "print('\\033[1m'+f\"La data tiene {df.shape[0]} observaciones y {df.shape[1]} variables.\")"
   ]
  },
  {
   "cell_type": "code",
   "execution_count": 27,
   "id": "aff2656e-4270-4011-9dad-8484424a56ef",
   "metadata": {
    "tags": []
   },
   "outputs": [
    {
     "name": "stdout",
     "output_type": "stream",
     "text": [
      "\u001b[1mRevision de datos faltantes:\n"
     ]
    },
    {
     "data": {
      "text/plain": [
       "HeartDisease        False\n",
       "BMI                 False\n",
       "Smoking             False\n",
       "AlcoholDrinking     False\n",
       "Stroke              False\n",
       "PhysicalHealth      False\n",
       "MentalHealth        False\n",
       "DiffWalking         False\n",
       "Sex                 False\n",
       "AgeCategory         False\n",
       "Race                False\n",
       "Diabetic            False\n",
       "PhysicalActivity    False\n",
       "GenHealth           False\n",
       "SleepTime           False\n",
       "Asthma              False\n",
       "KidneyDisease       False\n",
       "SkinCancer          False\n",
       "dtype: bool"
      ]
     },
     "execution_count": 27,
     "metadata": {},
     "output_type": "execute_result"
    }
   ],
   "source": [
    "print('\\033[1m'+\"Revision de datos faltantes:\")\n",
    "df.isnull().any()"
   ]
  },
  {
   "cell_type": "markdown",
   "id": "bbbff0f2-9bbc-4e84-810d-cfe25812f89b",
   "metadata": {},
   "source": [
    "Se observa que no hay datos faltantes."
   ]
  },
  {
   "cell_type": "code",
   "execution_count": 28,
   "id": "9caacc02-add9-4eba-9b0d-04af8a12b219",
   "metadata": {},
   "outputs": [
    {
     "name": "stdout",
     "output_type": "stream",
     "text": [
      "\u001b[1mPrincipales caracteristicas estadisticas:\n"
     ]
    },
    {
     "data": {
      "text/html": [
       "<div>\n",
       "<style scoped>\n",
       "    .dataframe tbody tr th:only-of-type {\n",
       "        vertical-align: middle;\n",
       "    }\n",
       "\n",
       "    .dataframe tbody tr th {\n",
       "        vertical-align: top;\n",
       "    }\n",
       "\n",
       "    .dataframe thead th {\n",
       "        text-align: right;\n",
       "    }\n",
       "</style>\n",
       "<table border=\"1\" class=\"dataframe\">\n",
       "  <thead>\n",
       "    <tr style=\"text-align: right;\">\n",
       "      <th></th>\n",
       "      <th>HeartDisease</th>\n",
       "      <th>BMI</th>\n",
       "      <th>Smoking</th>\n",
       "      <th>AlcoholDrinking</th>\n",
       "      <th>Stroke</th>\n",
       "      <th>PhysicalHealth</th>\n",
       "      <th>MentalHealth</th>\n",
       "      <th>DiffWalking</th>\n",
       "      <th>Sex</th>\n",
       "      <th>AgeCategory</th>\n",
       "      <th>Race</th>\n",
       "      <th>Diabetic</th>\n",
       "      <th>PhysicalActivity</th>\n",
       "      <th>GenHealth</th>\n",
       "      <th>SleepTime</th>\n",
       "      <th>Asthma</th>\n",
       "      <th>KidneyDisease</th>\n",
       "      <th>SkinCancer</th>\n",
       "    </tr>\n",
       "  </thead>\n",
       "  <tbody>\n",
       "    <tr>\n",
       "      <th>count</th>\n",
       "      <td>319795</td>\n",
       "      <td>319795.000000</td>\n",
       "      <td>319795</td>\n",
       "      <td>319795</td>\n",
       "      <td>319795</td>\n",
       "      <td>319795.00000</td>\n",
       "      <td>319795.000000</td>\n",
       "      <td>319795</td>\n",
       "      <td>319795</td>\n",
       "      <td>319795</td>\n",
       "      <td>319795</td>\n",
       "      <td>319795</td>\n",
       "      <td>319795</td>\n",
       "      <td>319795</td>\n",
       "      <td>319795.000000</td>\n",
       "      <td>319795</td>\n",
       "      <td>319795</td>\n",
       "      <td>319795</td>\n",
       "    </tr>\n",
       "    <tr>\n",
       "      <th>unique</th>\n",
       "      <td>2</td>\n",
       "      <td>NaN</td>\n",
       "      <td>2</td>\n",
       "      <td>2</td>\n",
       "      <td>2</td>\n",
       "      <td>NaN</td>\n",
       "      <td>NaN</td>\n",
       "      <td>2</td>\n",
       "      <td>2</td>\n",
       "      <td>13</td>\n",
       "      <td>6</td>\n",
       "      <td>4</td>\n",
       "      <td>2</td>\n",
       "      <td>5</td>\n",
       "      <td>NaN</td>\n",
       "      <td>2</td>\n",
       "      <td>2</td>\n",
       "      <td>2</td>\n",
       "    </tr>\n",
       "    <tr>\n",
       "      <th>top</th>\n",
       "      <td>No</td>\n",
       "      <td>NaN</td>\n",
       "      <td>No</td>\n",
       "      <td>No</td>\n",
       "      <td>No</td>\n",
       "      <td>NaN</td>\n",
       "      <td>NaN</td>\n",
       "      <td>No</td>\n",
       "      <td>Female</td>\n",
       "      <td>65-69</td>\n",
       "      <td>White</td>\n",
       "      <td>No</td>\n",
       "      <td>Yes</td>\n",
       "      <td>Very good</td>\n",
       "      <td>NaN</td>\n",
       "      <td>No</td>\n",
       "      <td>No</td>\n",
       "      <td>No</td>\n",
       "    </tr>\n",
       "    <tr>\n",
       "      <th>freq</th>\n",
       "      <td>292422</td>\n",
       "      <td>NaN</td>\n",
       "      <td>187887</td>\n",
       "      <td>298018</td>\n",
       "      <td>307726</td>\n",
       "      <td>NaN</td>\n",
       "      <td>NaN</td>\n",
       "      <td>275385</td>\n",
       "      <td>167805</td>\n",
       "      <td>34151</td>\n",
       "      <td>245212</td>\n",
       "      <td>269653</td>\n",
       "      <td>247957</td>\n",
       "      <td>113858</td>\n",
       "      <td>NaN</td>\n",
       "      <td>276923</td>\n",
       "      <td>308016</td>\n",
       "      <td>289976</td>\n",
       "    </tr>\n",
       "    <tr>\n",
       "      <th>mean</th>\n",
       "      <td>NaN</td>\n",
       "      <td>28.325399</td>\n",
       "      <td>NaN</td>\n",
       "      <td>NaN</td>\n",
       "      <td>NaN</td>\n",
       "      <td>3.37171</td>\n",
       "      <td>3.898366</td>\n",
       "      <td>NaN</td>\n",
       "      <td>NaN</td>\n",
       "      <td>NaN</td>\n",
       "      <td>NaN</td>\n",
       "      <td>NaN</td>\n",
       "      <td>NaN</td>\n",
       "      <td>NaN</td>\n",
       "      <td>7.097075</td>\n",
       "      <td>NaN</td>\n",
       "      <td>NaN</td>\n",
       "      <td>NaN</td>\n",
       "    </tr>\n",
       "    <tr>\n",
       "      <th>std</th>\n",
       "      <td>NaN</td>\n",
       "      <td>6.356100</td>\n",
       "      <td>NaN</td>\n",
       "      <td>NaN</td>\n",
       "      <td>NaN</td>\n",
       "      <td>7.95085</td>\n",
       "      <td>7.955235</td>\n",
       "      <td>NaN</td>\n",
       "      <td>NaN</td>\n",
       "      <td>NaN</td>\n",
       "      <td>NaN</td>\n",
       "      <td>NaN</td>\n",
       "      <td>NaN</td>\n",
       "      <td>NaN</td>\n",
       "      <td>1.436007</td>\n",
       "      <td>NaN</td>\n",
       "      <td>NaN</td>\n",
       "      <td>NaN</td>\n",
       "    </tr>\n",
       "    <tr>\n",
       "      <th>min</th>\n",
       "      <td>NaN</td>\n",
       "      <td>12.020000</td>\n",
       "      <td>NaN</td>\n",
       "      <td>NaN</td>\n",
       "      <td>NaN</td>\n",
       "      <td>0.00000</td>\n",
       "      <td>0.000000</td>\n",
       "      <td>NaN</td>\n",
       "      <td>NaN</td>\n",
       "      <td>NaN</td>\n",
       "      <td>NaN</td>\n",
       "      <td>NaN</td>\n",
       "      <td>NaN</td>\n",
       "      <td>NaN</td>\n",
       "      <td>1.000000</td>\n",
       "      <td>NaN</td>\n",
       "      <td>NaN</td>\n",
       "      <td>NaN</td>\n",
       "    </tr>\n",
       "    <tr>\n",
       "      <th>25%</th>\n",
       "      <td>NaN</td>\n",
       "      <td>24.030000</td>\n",
       "      <td>NaN</td>\n",
       "      <td>NaN</td>\n",
       "      <td>NaN</td>\n",
       "      <td>0.00000</td>\n",
       "      <td>0.000000</td>\n",
       "      <td>NaN</td>\n",
       "      <td>NaN</td>\n",
       "      <td>NaN</td>\n",
       "      <td>NaN</td>\n",
       "      <td>NaN</td>\n",
       "      <td>NaN</td>\n",
       "      <td>NaN</td>\n",
       "      <td>6.000000</td>\n",
       "      <td>NaN</td>\n",
       "      <td>NaN</td>\n",
       "      <td>NaN</td>\n",
       "    </tr>\n",
       "    <tr>\n",
       "      <th>50%</th>\n",
       "      <td>NaN</td>\n",
       "      <td>27.340000</td>\n",
       "      <td>NaN</td>\n",
       "      <td>NaN</td>\n",
       "      <td>NaN</td>\n",
       "      <td>0.00000</td>\n",
       "      <td>0.000000</td>\n",
       "      <td>NaN</td>\n",
       "      <td>NaN</td>\n",
       "      <td>NaN</td>\n",
       "      <td>NaN</td>\n",
       "      <td>NaN</td>\n",
       "      <td>NaN</td>\n",
       "      <td>NaN</td>\n",
       "      <td>7.000000</td>\n",
       "      <td>NaN</td>\n",
       "      <td>NaN</td>\n",
       "      <td>NaN</td>\n",
       "    </tr>\n",
       "    <tr>\n",
       "      <th>75%</th>\n",
       "      <td>NaN</td>\n",
       "      <td>31.420000</td>\n",
       "      <td>NaN</td>\n",
       "      <td>NaN</td>\n",
       "      <td>NaN</td>\n",
       "      <td>2.00000</td>\n",
       "      <td>3.000000</td>\n",
       "      <td>NaN</td>\n",
       "      <td>NaN</td>\n",
       "      <td>NaN</td>\n",
       "      <td>NaN</td>\n",
       "      <td>NaN</td>\n",
       "      <td>NaN</td>\n",
       "      <td>NaN</td>\n",
       "      <td>8.000000</td>\n",
       "      <td>NaN</td>\n",
       "      <td>NaN</td>\n",
       "      <td>NaN</td>\n",
       "    </tr>\n",
       "    <tr>\n",
       "      <th>max</th>\n",
       "      <td>NaN</td>\n",
       "      <td>94.850000</td>\n",
       "      <td>NaN</td>\n",
       "      <td>NaN</td>\n",
       "      <td>NaN</td>\n",
       "      <td>30.00000</td>\n",
       "      <td>30.000000</td>\n",
       "      <td>NaN</td>\n",
       "      <td>NaN</td>\n",
       "      <td>NaN</td>\n",
       "      <td>NaN</td>\n",
       "      <td>NaN</td>\n",
       "      <td>NaN</td>\n",
       "      <td>NaN</td>\n",
       "      <td>24.000000</td>\n",
       "      <td>NaN</td>\n",
       "      <td>NaN</td>\n",
       "      <td>NaN</td>\n",
       "    </tr>\n",
       "  </tbody>\n",
       "</table>\n",
       "</div>"
      ],
      "text/plain": [
       "       HeartDisease            BMI Smoking AlcoholDrinking  Stroke  \\\n",
       "count        319795  319795.000000  319795          319795  319795   \n",
       "unique            2            NaN       2               2       2   \n",
       "top              No            NaN      No              No      No   \n",
       "freq         292422            NaN  187887          298018  307726   \n",
       "mean            NaN      28.325399     NaN             NaN     NaN   \n",
       "std             NaN       6.356100     NaN             NaN     NaN   \n",
       "min             NaN      12.020000     NaN             NaN     NaN   \n",
       "25%             NaN      24.030000     NaN             NaN     NaN   \n",
       "50%             NaN      27.340000     NaN             NaN     NaN   \n",
       "75%             NaN      31.420000     NaN             NaN     NaN   \n",
       "max             NaN      94.850000     NaN             NaN     NaN   \n",
       "\n",
       "        PhysicalHealth   MentalHealth DiffWalking     Sex AgeCategory    Race  \\\n",
       "count     319795.00000  319795.000000      319795  319795      319795  319795   \n",
       "unique             NaN            NaN           2       2          13       6   \n",
       "top                NaN            NaN          No  Female       65-69   White   \n",
       "freq               NaN            NaN      275385  167805       34151  245212   \n",
       "mean           3.37171       3.898366         NaN     NaN         NaN     NaN   \n",
       "std            7.95085       7.955235         NaN     NaN         NaN     NaN   \n",
       "min            0.00000       0.000000         NaN     NaN         NaN     NaN   \n",
       "25%            0.00000       0.000000         NaN     NaN         NaN     NaN   \n",
       "50%            0.00000       0.000000         NaN     NaN         NaN     NaN   \n",
       "75%            2.00000       3.000000         NaN     NaN         NaN     NaN   \n",
       "max           30.00000      30.000000         NaN     NaN         NaN     NaN   \n",
       "\n",
       "       Diabetic PhysicalActivity  GenHealth      SleepTime  Asthma  \\\n",
       "count    319795           319795     319795  319795.000000  319795   \n",
       "unique        4                2          5            NaN       2   \n",
       "top          No              Yes  Very good            NaN      No   \n",
       "freq     269653           247957     113858            NaN  276923   \n",
       "mean        NaN              NaN        NaN       7.097075     NaN   \n",
       "std         NaN              NaN        NaN       1.436007     NaN   \n",
       "min         NaN              NaN        NaN       1.000000     NaN   \n",
       "25%         NaN              NaN        NaN       6.000000     NaN   \n",
       "50%         NaN              NaN        NaN       7.000000     NaN   \n",
       "75%         NaN              NaN        NaN       8.000000     NaN   \n",
       "max         NaN              NaN        NaN      24.000000     NaN   \n",
       "\n",
       "       KidneyDisease SkinCancer  \n",
       "count         319795     319795  \n",
       "unique             2          2  \n",
       "top               No         No  \n",
       "freq          308016     289976  \n",
       "mean             NaN        NaN  \n",
       "std              NaN        NaN  \n",
       "min              NaN        NaN  \n",
       "25%              NaN        NaN  \n",
       "50%              NaN        NaN  \n",
       "75%              NaN        NaN  \n",
       "max              NaN        NaN  "
      ]
     },
     "execution_count": 28,
     "metadata": {},
     "output_type": "execute_result"
    }
   ],
   "source": [
    "print('\\033[1m'+\"Principales caracteristicas estadisticas:\")\n",
    "df.describe(include=\"all\")"
   ]
  },
  {
   "cell_type": "markdown",
   "id": "9077edc2-799f-46ac-8a5a-4f7748333ee0",
   "metadata": {
    "tags": []
   },
   "source": [
    "### 2.4 Cambios en el dataframe:\n",
    "Cambiaremos los valores de la columna \"HeartDisease\", \"Sex\", \"Smoking\" y \"AlcoholDrinking\" , para facilitar el análisis.\n",
    "- \"No\" cambiara a \"0\"\n",
    "- \"Yes\" cambiara a \"1\" <br>\n",
    "\n",
    "En el caso del Sexo, lo cambiaremos a:\n",
    "- \"Male\" cambiara a \"0\"\n",
    "- \"Female\" cambiara a \"1\""
   ]
  },
  {
   "cell_type": "code",
   "execution_count": 29,
   "id": "0032feab-e177-4931-8e54-18107a320b75",
   "metadata": {
    "tags": []
   },
   "outputs": [
    {
     "data": {
      "text/html": [
       "<div>\n",
       "<style scoped>\n",
       "    .dataframe tbody tr th:only-of-type {\n",
       "        vertical-align: middle;\n",
       "    }\n",
       "\n",
       "    .dataframe tbody tr th {\n",
       "        vertical-align: top;\n",
       "    }\n",
       "\n",
       "    .dataframe thead th {\n",
       "        text-align: right;\n",
       "    }\n",
       "</style>\n",
       "<table border=\"1\" class=\"dataframe\">\n",
       "  <thead>\n",
       "    <tr style=\"text-align: right;\">\n",
       "      <th></th>\n",
       "      <th>HeartDisease</th>\n",
       "      <th>BMI</th>\n",
       "      <th>Smoking</th>\n",
       "      <th>AlcoholDrinking</th>\n",
       "      <th>Stroke</th>\n",
       "      <th>PhysicalHealth</th>\n",
       "      <th>MentalHealth</th>\n",
       "      <th>DiffWalking</th>\n",
       "      <th>Sex</th>\n",
       "      <th>AgeCategory</th>\n",
       "      <th>Race</th>\n",
       "      <th>Diabetic</th>\n",
       "      <th>PhysicalActivity</th>\n",
       "      <th>GenHealth</th>\n",
       "      <th>SleepTime</th>\n",
       "      <th>Asthma</th>\n",
       "      <th>KidneyDisease</th>\n",
       "      <th>SkinCancer</th>\n",
       "    </tr>\n",
       "  </thead>\n",
       "  <tbody>\n",
       "    <tr>\n",
       "      <th>0</th>\n",
       "      <td>0</td>\n",
       "      <td>16.60</td>\n",
       "      <td>1</td>\n",
       "      <td>0</td>\n",
       "      <td>No</td>\n",
       "      <td>3.0</td>\n",
       "      <td>30.0</td>\n",
       "      <td>No</td>\n",
       "      <td>1</td>\n",
       "      <td>55-59</td>\n",
       "      <td>White</td>\n",
       "      <td>Yes</td>\n",
       "      <td>Yes</td>\n",
       "      <td>Very good</td>\n",
       "      <td>5.0</td>\n",
       "      <td>Yes</td>\n",
       "      <td>No</td>\n",
       "      <td>Yes</td>\n",
       "    </tr>\n",
       "    <tr>\n",
       "      <th>1</th>\n",
       "      <td>0</td>\n",
       "      <td>20.34</td>\n",
       "      <td>0</td>\n",
       "      <td>0</td>\n",
       "      <td>Yes</td>\n",
       "      <td>0.0</td>\n",
       "      <td>0.0</td>\n",
       "      <td>No</td>\n",
       "      <td>1</td>\n",
       "      <td>80 or older</td>\n",
       "      <td>White</td>\n",
       "      <td>No</td>\n",
       "      <td>Yes</td>\n",
       "      <td>Very good</td>\n",
       "      <td>7.0</td>\n",
       "      <td>No</td>\n",
       "      <td>No</td>\n",
       "      <td>No</td>\n",
       "    </tr>\n",
       "    <tr>\n",
       "      <th>2</th>\n",
       "      <td>0</td>\n",
       "      <td>26.58</td>\n",
       "      <td>1</td>\n",
       "      <td>0</td>\n",
       "      <td>No</td>\n",
       "      <td>20.0</td>\n",
       "      <td>30.0</td>\n",
       "      <td>No</td>\n",
       "      <td>0</td>\n",
       "      <td>65-69</td>\n",
       "      <td>White</td>\n",
       "      <td>Yes</td>\n",
       "      <td>Yes</td>\n",
       "      <td>Fair</td>\n",
       "      <td>8.0</td>\n",
       "      <td>Yes</td>\n",
       "      <td>No</td>\n",
       "      <td>No</td>\n",
       "    </tr>\n",
       "    <tr>\n",
       "      <th>3</th>\n",
       "      <td>0</td>\n",
       "      <td>24.21</td>\n",
       "      <td>0</td>\n",
       "      <td>0</td>\n",
       "      <td>No</td>\n",
       "      <td>0.0</td>\n",
       "      <td>0.0</td>\n",
       "      <td>No</td>\n",
       "      <td>1</td>\n",
       "      <td>75-79</td>\n",
       "      <td>White</td>\n",
       "      <td>No</td>\n",
       "      <td>No</td>\n",
       "      <td>Good</td>\n",
       "      <td>6.0</td>\n",
       "      <td>No</td>\n",
       "      <td>No</td>\n",
       "      <td>Yes</td>\n",
       "    </tr>\n",
       "    <tr>\n",
       "      <th>4</th>\n",
       "      <td>0</td>\n",
       "      <td>23.71</td>\n",
       "      <td>0</td>\n",
       "      <td>0</td>\n",
       "      <td>No</td>\n",
       "      <td>28.0</td>\n",
       "      <td>0.0</td>\n",
       "      <td>Yes</td>\n",
       "      <td>1</td>\n",
       "      <td>40-44</td>\n",
       "      <td>White</td>\n",
       "      <td>No</td>\n",
       "      <td>Yes</td>\n",
       "      <td>Very good</td>\n",
       "      <td>8.0</td>\n",
       "      <td>No</td>\n",
       "      <td>No</td>\n",
       "      <td>No</td>\n",
       "    </tr>\n",
       "  </tbody>\n",
       "</table>\n",
       "</div>"
      ],
      "text/plain": [
       "   HeartDisease    BMI  Smoking  AlcoholDrinking Stroke  PhysicalHealth  \\\n",
       "0             0  16.60        1                0     No             3.0   \n",
       "1             0  20.34        0                0    Yes             0.0   \n",
       "2             0  26.58        1                0     No            20.0   \n",
       "3             0  24.21        0                0     No             0.0   \n",
       "4             0  23.71        0                0     No            28.0   \n",
       "\n",
       "   MentalHealth DiffWalking  Sex  AgeCategory   Race Diabetic  \\\n",
       "0          30.0          No    1        55-59  White      Yes   \n",
       "1           0.0          No    1  80 or older  White       No   \n",
       "2          30.0          No    0        65-69  White      Yes   \n",
       "3           0.0          No    1        75-79  White       No   \n",
       "4           0.0         Yes    1        40-44  White       No   \n",
       "\n",
       "  PhysicalActivity  GenHealth  SleepTime Asthma KidneyDisease SkinCancer  \n",
       "0              Yes  Very good        5.0    Yes            No        Yes  \n",
       "1              Yes  Very good        7.0     No            No         No  \n",
       "2              Yes       Fair        8.0    Yes            No         No  \n",
       "3               No       Good        6.0     No            No        Yes  \n",
       "4              Yes  Very good        8.0     No            No         No  "
      ]
     },
     "execution_count": 29,
     "metadata": {},
     "output_type": "execute_result"
    }
   ],
   "source": [
    "df[\"HeartDisease\"] = df[\"HeartDisease\"].replace({\"No\": 0, \"Yes\": 1})\n",
    "df[\"Sex\"] = df[\"Sex\"].replace({\"Male\": 0, \"Female\": 1})\n",
    "df[\"Smoking\"] = df[\"Smoking\"].replace({\"No\": 0, \"Yes\": 1})\n",
    "df[\"AlcoholDrinking\"] = df[\"AlcoholDrinking\"].replace({\"No\": 0, \"Yes\": 1})\n",
    "df.head()"
   ]
  },
  {
   "cell_type": "markdown",
   "id": "b88e6f7d-0092-41f2-bc31-0e32e338941f",
   "metadata": {},
   "source": [
    "## 3. Árbol de decisión:"
   ]
  },
  {
   "cell_type": "markdown",
   "id": "4134b857-23c4-4b77-a331-a6c40a876062",
   "metadata": {},
   "source": [
    "### 3.1 Importación de los modelos a usar:"
   ]
  },
  {
   "cell_type": "code",
   "execution_count": 30,
   "id": "fa624db8-ec07-46fc-8124-4ea4610c80bc",
   "metadata": {},
   "outputs": [],
   "source": [
    "from sklearn.model_selection import train_test_split\n",
    "from sklearn.tree import DecisionTreeClassifier\n",
    "from sklearn.metrics import accuracy_score\n",
    "from sklearn.ensemble import RandomForestClassifier\n",
    "from sklearn.tree import DecisionTreeClassifier"
   ]
  },
  {
   "cell_type": "markdown",
   "id": "0018a10b-4bb5-420d-b0bd-ca597935a468",
   "metadata": {},
   "source": [
    "### 3.2 Preparación de la data "
   ]
  },
  {
   "cell_type": "markdown",
   "id": "f035fbc2-722b-41ca-9e8f-7e8db894b025",
   "metadata": {
    "tags": []
   },
   "source": [
    "Para entrenar el modelos solo usaremos las variables \"AgeCategory\", \"Smoking\", y \"Sex\", por lo que separaremos solo lo que usaremos."
   ]
  },
  {
   "cell_type": "code",
   "execution_count": 31,
   "id": "a421bc9a-9d5b-4222-b293-c7e8fe998d33",
   "metadata": {},
   "outputs": [
    {
     "data": {
      "text/html": [
       "<div>\n",
       "<style scoped>\n",
       "    .dataframe tbody tr th:only-of-type {\n",
       "        vertical-align: middle;\n",
       "    }\n",
       "\n",
       "    .dataframe tbody tr th {\n",
       "        vertical-align: top;\n",
       "    }\n",
       "\n",
       "    .dataframe thead th {\n",
       "        text-align: right;\n",
       "    }\n",
       "</style>\n",
       "<table border=\"1\" class=\"dataframe\">\n",
       "  <thead>\n",
       "    <tr style=\"text-align: right;\">\n",
       "      <th></th>\n",
       "      <th>AgeCategory</th>\n",
       "      <th>Sex</th>\n",
       "      <th>Smoking</th>\n",
       "      <th>AlcoholDrinking</th>\n",
       "      <th>HeartDisease</th>\n",
       "    </tr>\n",
       "  </thead>\n",
       "  <tbody>\n",
       "    <tr>\n",
       "      <th>0</th>\n",
       "      <td>55-59</td>\n",
       "      <td>1</td>\n",
       "      <td>1</td>\n",
       "      <td>0</td>\n",
       "      <td>0</td>\n",
       "    </tr>\n",
       "    <tr>\n",
       "      <th>1</th>\n",
       "      <td>80 or older</td>\n",
       "      <td>1</td>\n",
       "      <td>0</td>\n",
       "      <td>0</td>\n",
       "      <td>0</td>\n",
       "    </tr>\n",
       "    <tr>\n",
       "      <th>2</th>\n",
       "      <td>65-69</td>\n",
       "      <td>0</td>\n",
       "      <td>1</td>\n",
       "      <td>0</td>\n",
       "      <td>0</td>\n",
       "    </tr>\n",
       "    <tr>\n",
       "      <th>3</th>\n",
       "      <td>75-79</td>\n",
       "      <td>1</td>\n",
       "      <td>0</td>\n",
       "      <td>0</td>\n",
       "      <td>0</td>\n",
       "    </tr>\n",
       "    <tr>\n",
       "      <th>4</th>\n",
       "      <td>40-44</td>\n",
       "      <td>1</td>\n",
       "      <td>0</td>\n",
       "      <td>0</td>\n",
       "      <td>0</td>\n",
       "    </tr>\n",
       "  </tbody>\n",
       "</table>\n",
       "</div>"
      ],
      "text/plain": [
       "   AgeCategory  Sex  Smoking  AlcoholDrinking  HeartDisease\n",
       "0        55-59    1        1                0             0\n",
       "1  80 or older    1        0                0             0\n",
       "2        65-69    0        1                0             0\n",
       "3        75-79    1        0                0             0\n",
       "4        40-44    1        0                0             0"
      ]
     },
     "execution_count": 31,
     "metadata": {},
     "output_type": "execute_result"
    }
   ],
   "source": [
    "# Creamos un nuevo dataframe solo con las variables a usar::\n",
    "df_arbol = df[[\"AgeCategory\", \"Sex\", \"Smoking\", \"AlcoholDrinking\", \"HeartDisease\"]].copy()\n",
    "df_arbol.head()"
   ]
  },
  {
   "cell_type": "markdown",
   "id": "81b956ef-318e-4e88-9019-d2acbb7177ab",
   "metadata": {},
   "source": [
    "La edad juega un papel muy importante para nuestro análisis, porque lo modificaremos para poder usarlo con el árbol de decisiones:"
   ]
  },
  {
   "cell_type": "code",
   "execution_count": 32,
   "id": "870b7d41-9a9c-46d8-b1bb-75b9f99b7907",
   "metadata": {},
   "outputs": [
    {
     "data": {
      "text/html": [
       "<div>\n",
       "<style scoped>\n",
       "    .dataframe tbody tr th:only-of-type {\n",
       "        vertical-align: middle;\n",
       "    }\n",
       "\n",
       "    .dataframe tbody tr th {\n",
       "        vertical-align: top;\n",
       "    }\n",
       "\n",
       "    .dataframe thead th {\n",
       "        text-align: right;\n",
       "    }\n",
       "</style>\n",
       "<table border=\"1\" class=\"dataframe\">\n",
       "  <thead>\n",
       "    <tr style=\"text-align: right;\">\n",
       "      <th></th>\n",
       "      <th>AgeCategory</th>\n",
       "      <th>Sex</th>\n",
       "      <th>Smoking</th>\n",
       "      <th>AlcoholDrinking</th>\n",
       "      <th>HeartDisease</th>\n",
       "    </tr>\n",
       "  </thead>\n",
       "  <tbody>\n",
       "    <tr>\n",
       "      <th>0</th>\n",
       "      <td>7</td>\n",
       "      <td>1</td>\n",
       "      <td>1</td>\n",
       "      <td>0</td>\n",
       "      <td>0</td>\n",
       "    </tr>\n",
       "    <tr>\n",
       "      <th>1</th>\n",
       "      <td>12</td>\n",
       "      <td>1</td>\n",
       "      <td>0</td>\n",
       "      <td>0</td>\n",
       "      <td>0</td>\n",
       "    </tr>\n",
       "    <tr>\n",
       "      <th>2</th>\n",
       "      <td>9</td>\n",
       "      <td>0</td>\n",
       "      <td>1</td>\n",
       "      <td>0</td>\n",
       "      <td>0</td>\n",
       "    </tr>\n",
       "    <tr>\n",
       "      <th>3</th>\n",
       "      <td>11</td>\n",
       "      <td>1</td>\n",
       "      <td>0</td>\n",
       "      <td>0</td>\n",
       "      <td>0</td>\n",
       "    </tr>\n",
       "    <tr>\n",
       "      <th>4</th>\n",
       "      <td>4</td>\n",
       "      <td>1</td>\n",
       "      <td>0</td>\n",
       "      <td>0</td>\n",
       "      <td>0</td>\n",
       "    </tr>\n",
       "  </tbody>\n",
       "</table>\n",
       "</div>"
      ],
      "text/plain": [
       "   AgeCategory  Sex  Smoking  AlcoholDrinking  HeartDisease\n",
       "0            7    1        1                0             0\n",
       "1           12    1        0                0             0\n",
       "2            9    0        1                0             0\n",
       "3           11    1        0                0             0\n",
       "4            4    1        0                0             0"
      ]
     },
     "execution_count": 32,
     "metadata": {},
     "output_type": "execute_result"
    }
   ],
   "source": [
    "df_arbol[\"AgeCategory\"] = df_arbol[\"AgeCategory\"].replace({\"18-24\": 0, \"25-29\": 1, \"30-34\": 2, \n",
    "                                               \"35-39\": 3, \"40-44\": 4, \"45-49\": 5, \n",
    "                                               \"50-54\": 6, \"55-59\": 7, \"60-64\": 8, \n",
    "                                               \"65-69\": 9, \"70-74\": 10, \"75-79\": 11, \n",
    "                                               \"80 or older\": 12})\n",
    "df_arbol.head()"
   ]
  },
  {
   "cell_type": "markdown",
   "id": "8b3f104e-3f9f-48a4-8c76-bd1d9757be37",
   "metadata": {
    "jp-MarkdownHeadingCollapsed": true,
    "tags": []
   },
   "source": [
    "### 3.3 Creación del Modelo:"
   ]
  },
  {
   "cell_type": "code",
   "execution_count": 33,
   "id": "8213cc1e-febd-44ef-8c96-b2a4accb0b0f",
   "metadata": {},
   "outputs": [],
   "source": [
    "# Separacion de features en X e y:\n",
    "X = df_arbol.drop(\"HeartDisease\", axis=1) #Elimino de mi dataset la variable a predecir\n",
    "y = df_arbol.HeartDisease #\"y\" representa la target"
   ]
  },
  {
   "cell_type": "code",
   "execution_count": 34,
   "id": "f512b332-dc63-48e2-9342-d421e8363930",
   "metadata": {},
   "outputs": [],
   "source": [
    "# Separación de la data en 70% y 30%:\n",
    "X_train, X_test, y_train, y_test = train_test_split(X, y, test_size=0.30, random_state=25) "
   ]
  },
  {
   "cell_type": "code",
   "execution_count": 35,
   "id": "82e964e7-8d0c-4517-bd7a-2e94dab561d2",
   "metadata": {},
   "outputs": [
    {
     "data": {
      "text/plain": [
       "DecisionTreeClassifier(max_depth=3, random_state=25)"
      ]
     },
     "execution_count": 35,
     "metadata": {},
     "output_type": "execute_result"
    }
   ],
   "source": [
    "# Creación y entrenamiento del modelo:\n",
    "arbol_de_decision = DecisionTreeClassifier(max_depth=3, random_state = 25)\n",
    "arbol_de_decision.fit(X_train,y_train)"
   ]
  },
  {
   "cell_type": "code",
   "execution_count": 36,
   "id": "e544abe3-8964-41b9-b0d5-f3461f1b31fe",
   "metadata": {},
   "outputs": [],
   "source": [
    "y_train_pred = arbol_de_decision.predict(X_train) #Prediccion en Train\n",
    "y_test_pred = arbol_de_decision.predict(X_test) #Prediccion en Test"
   ]
  },
  {
   "cell_type": "code",
   "execution_count": 37,
   "id": "00a5ade0-2ec9-4c9e-9923-8f0c5244a198",
   "metadata": {},
   "outputs": [
    {
     "name": "stdout",
     "output_type": "stream",
     "text": [
      "% de aciertos sobre el set de entrenamiento: 0.91499892788221\n",
      "% de aciertos sobre el set de evaluación: 0.9130176466296293\n"
     ]
    }
   ],
   "source": [
    "train_accuracy = accuracy_score(y_train, y_train_pred)\n",
    "\n",
    "test_accuracy = accuracy_score(y_test, y_test_pred)\n",
    "\n",
    "print('% de aciertos sobre el set de entrenamiento:', train_accuracy)\n",
    "print('% de aciertos sobre el set de evaluación:',test_accuracy)"
   ]
  },
  {
   "cell_type": "code",
   "execution_count": 49,
   "id": "d94ca868-e9a2-4905-85dc-b15f23378de1",
   "metadata": {},
   "outputs": [
    {
     "data": {
      "image/png": "[encoded data removed]",
      "text/plain": [
       "<Figure size 2160x720 with 1 Axes>"
      ]
     },
     "metadata": {
      "needs_background": "light"
     },
     "output_type": "display_data"
    }
   ],
   "source": [
    "from sklearn import tree\n",
    "plt.figure(figsize=(30,10))\n",
    "tree.plot_tree(arbol_de_decision)\n",
    "plt.show()"
   ]
  },
  {
   "cell_type": "code",
   "execution_count": 38,
   "id": "7449b02c-e3c6-4c4a-bf7b-06ad45abee23",
   "metadata": {},
   "outputs": [
    {
     "data": {
      "image/png": "[encoded data removed]",
      "text/plain": [
       "<Figure size 432x288 with 1 Axes>"
      ]
     },
     "metadata": {
      "needs_background": "light"
     },
     "output_type": "display_data"
    }
   ],
   "source": [
    "importances = arbol_de_decision.feature_importances_\n",
    "columns = X.columns\n",
    "sns.barplot(x = columns, y = importances)\n",
    "plt.title('Importancia de cada Feature')\n",
    "plt.show()"
   ]
  },
  {
   "cell_type": "markdown",
   "id": "c1e7c14c-929d-42db-a47f-70bb04159713",
   "metadata": {},
   "source": [
    "### 3.4 Conclusiones:"
   ]
  },
  {
   "cell_type": "markdown",
   "id": "18ba9b50-3108-40e2-b77c-9e3ef1854d28",
   "metadata": {},
   "source": [
    "Podemos observar que obtenemos un accuracy de mas del 90%, donde la variable mas importante es \"AgeCategory\". Sin embargo, es importante revisar la variable target de nuestro dataset:"
   ]
  },
  {
   "cell_type": "code",
   "execution_count": 39,
   "id": "8b4a3576-6f16-4cbd-b610-a0634d8d2e1d",
   "metadata": {},
   "outputs": [
    {
     "data": {
      "text/html": [
       "<div>\n",
       "<style scoped>\n",
       "    .dataframe tbody tr th:only-of-type {\n",
       "        vertical-align: middle;\n",
       "    }\n",
       "\n",
       "    .dataframe tbody tr th {\n",
       "        vertical-align: top;\n",
       "    }\n",
       "\n",
       "    .dataframe thead th {\n",
       "        text-align: right;\n",
       "    }\n",
       "</style>\n",
       "<table border=\"1\" class=\"dataframe\">\n",
       "  <thead>\n",
       "    <tr style=\"text-align: right;\">\n",
       "      <th></th>\n",
       "      <th>HeartDisease</th>\n",
       "      <th>%</th>\n",
       "    </tr>\n",
       "  </thead>\n",
       "  <tbody>\n",
       "    <tr>\n",
       "      <th>0</th>\n",
       "      <td>292422</td>\n",
       "      <td>91.44</td>\n",
       "    </tr>\n",
       "    <tr>\n",
       "      <th>1</th>\n",
       "      <td>27373</td>\n",
       "      <td>8.56</td>\n",
       "    </tr>\n",
       "  </tbody>\n",
       "</table>\n",
       "</div>"
      ],
      "text/plain": [
       "   HeartDisease      %\n",
       "0        292422  91.44\n",
       "1         27373   8.56"
      ]
     },
     "execution_count": 39,
     "metadata": {},
     "output_type": "execute_result"
    }
   ],
   "source": [
    "rev = pd.DataFrame(df[\"HeartDisease\"].value_counts())\n",
    "rev[\"%\"] = round((rev[\"HeartDisease\"]*100)/rev[\"HeartDisease\"].sum(), 2)\n",
    "rev"
   ]
  },
  {
   "cell_type": "markdown",
   "id": "05a41b84-8f15-49ac-89fc-0df34bdc19b0",
   "metadata": {},
   "source": [
    "Como se observa, nuestra data esta altamente desbalanceada, por lo que para obtener un accuracy de 90% solo es necesario predecir siempre con un \"0\". <br>\n",
    "Por tal motivo, se determina que hacer predicciones de nuestra data, con un árbol de decisiones, no sirve."
   ]
  },
  {
   "cell_type": "markdown",
   "id": "075f93e7-c38f-423e-9ae6-970a1665df48",
   "metadata": {},
   "source": [
    "## 4. Random Forest:"
   ]
  },
  {
   "cell_type": "markdown",
   "id": "54783342-c6d3-43ea-a611-659da6c65e8d",
   "metadata": {},
   "source": [
    "Creamos el random forest:"
   ]
  },
  {
   "cell_type": "code",
   "execution_count": 46,
   "id": "788cca86-f524-46d9-9b6f-6dd5638a0282",
   "metadata": {},
   "outputs": [
    {
     "data": {
      "text/plain": [
       "RandomForestClassifier(class_weight='balanced', max_features='log2',\n",
       "                       random_state=11)"
      ]
     },
     "execution_count": 46,
     "metadata": {},
     "output_type": "execute_result"
    }
   ],
   "source": [
    "model = RandomForestClassifier(random_state=11, n_estimators=100, class_weight=\"balanced\", max_features=\"log2\")\n",
    "model.fit(X_train, y_train)"
   ]
  },
  {
   "cell_type": "code",
   "execution_count": 47,
   "id": "093e1c69-bd60-49fb-a3e7-349698ae580c",
   "metadata": {},
   "outputs": [],
   "source": [
    "y_test_pred = model.predict(X_test)"
   ]
  },
  {
   "cell_type": "code",
   "execution_count": 48,
   "id": "cc739df4-e56b-4e8e-b3ca-3a44f60df4c0",
   "metadata": {},
   "outputs": [
    {
     "name": "stdout",
     "output_type": "stream",
     "text": [
      "% de aciertos sobre el set de evaluación: 0.6211029925265013\n"
     ]
    }
   ],
   "source": [
    "#Calculo el accuracy en Test\n",
    "test_accuracy = accuracy_score(y_test, y_test_pred)\n",
    "\n",
    "print('% de aciertos sobre el set de evaluación:',test_accuracy)"
   ]
  },
  {
   "cell_type": "markdown",
   "id": "966dcc17-9698-40d9-b80c-6ec695229b26",
   "metadata": {},
   "source": [
    "### 4.1 Conclusiones:"
   ]
  },
  {
   "cell_type": "markdown",
   "id": "2d815f1b-21f6-44a2-bfa5-761f9a85a9aa",
   "metadata": {},
   "source": [
    "Observamos que al realizar un random forest con 100 estimaciones, el porcentaje de aciertos bajo a 62% a comparación de un solo árbol de decisiones. Sin embargo, al estar la data desbalanceadas, los resultados aun no son satisfactorios. En próximas entregas se mejorara la data."
   ]
  }
 ],
 "metadata": {
  "kernelspec": {
   "display_name": "Python 3 (ipykernel)",
   "language": "python",
   "name": "python3"
  },
  "language_info": {
   "codemirror_mode": {
    "name": "ipython",
    "version": 3
   },
   "file_extension": ".py",
   "mimetype": "text/x-python",
   "name": "python",
   "nbconvert_exporter": "python",
   "pygments_lexer": "ipython3",
   "version": "3.9.7"
  }
 },
 "nbformat": 4,
 "nbformat_minor": 5
}
